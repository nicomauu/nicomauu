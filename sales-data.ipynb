{
 "cells": [
  {
   "cell_type": "markdown",
   "id": "a75de95d",
   "metadata": {},
   "source": [
    "This is an assignment on how to analyze sales data."
   ]
  },
  {
   "cell_type": "code",
   "execution_count": 72,
   "id": "4104f8b7",
   "metadata": {
    "scrolled": true
   },
   "outputs": [
    {
     "data": {
      "text/html": [
       "<div>\n",
       "<style scoped>\n",
       "    .dataframe tbody tr th:only-of-type {\n",
       "        vertical-align: middle;\n",
       "    }\n",
       "\n",
       "    .dataframe tbody tr th {\n",
       "        vertical-align: top;\n",
       "    }\n",
       "\n",
       "    .dataframe thead th {\n",
       "        text-align: right;\n",
       "    }\n",
       "</style>\n",
       "<table border=\"1\" class=\"dataframe\">\n",
       "  <thead>\n",
       "    <tr style=\"text-align: right;\">\n",
       "      <th></th>\n",
       "      <th>invoice_no</th>\n",
       "      <th>customer_id</th>\n",
       "      <th>category</th>\n",
       "      <th>quantity</th>\n",
       "      <th>price</th>\n",
       "      <th>payment_method</th>\n",
       "      <th>invoice_date</th>\n",
       "      <th>shopping_mall</th>\n",
       "      <th>sales</th>\n",
       "    </tr>\n",
       "  </thead>\n",
       "  <tbody>\n",
       "    <tr>\n",
       "      <th>0</th>\n",
       "      <td>I138884</td>\n",
       "      <td>229</td>\n",
       "      <td>Clothing</td>\n",
       "      <td>5</td>\n",
       "      <td>1500.40</td>\n",
       "      <td>Credit Card</td>\n",
       "      <td>5/8/2022</td>\n",
       "      <td>Kanyon</td>\n",
       "      <td>7502.00</td>\n",
       "    </tr>\n",
       "    <tr>\n",
       "      <th>1</th>\n",
       "      <td>I317333</td>\n",
       "      <td>3433</td>\n",
       "      <td>Shoes</td>\n",
       "      <td>3</td>\n",
       "      <td>1800.51</td>\n",
       "      <td>Debit Card</td>\n",
       "      <td>12/12/2021</td>\n",
       "      <td>Forum Istanbul</td>\n",
       "      <td>5401.53</td>\n",
       "    </tr>\n",
       "    <tr>\n",
       "      <th>2</th>\n",
       "      <td>I127801</td>\n",
       "      <td>644</td>\n",
       "      <td>Clothing</td>\n",
       "      <td>1</td>\n",
       "      <td>300.08</td>\n",
       "      <td>Cash</td>\n",
       "      <td>9/11/2021</td>\n",
       "      <td>Metrocity</td>\n",
       "      <td>300.08</td>\n",
       "    </tr>\n",
       "    <tr>\n",
       "      <th>3</th>\n",
       "      <td>I173702</td>\n",
       "      <td>4900</td>\n",
       "      <td>Shoes</td>\n",
       "      <td>5</td>\n",
       "      <td>3000.85</td>\n",
       "      <td>Credit Card</td>\n",
       "      <td>16/05/2021</td>\n",
       "      <td>Metropol AVM</td>\n",
       "      <td>15004.25</td>\n",
       "    </tr>\n",
       "    <tr>\n",
       "      <th>4</th>\n",
       "      <td>I337046</td>\n",
       "      <td>1089</td>\n",
       "      <td>Books</td>\n",
       "      <td>4</td>\n",
       "      <td>60.60</td>\n",
       "      <td>Cash</td>\n",
       "      <td>24/10/2021</td>\n",
       "      <td>Kanyon</td>\n",
       "      <td>242.40</td>\n",
       "    </tr>\n",
       "  </tbody>\n",
       "</table>\n",
       "</div>"
      ],
      "text/plain": [
       "  invoice_no  customer_id  category  quantity    price payment_method  \\\n",
       "0    I138884          229  Clothing         5  1500.40    Credit Card   \n",
       "1    I317333         3433     Shoes         3  1800.51     Debit Card   \n",
       "2    I127801          644  Clothing         1   300.08           Cash   \n",
       "3    I173702         4900     Shoes         5  3000.85    Credit Card   \n",
       "4    I337046         1089     Books         4    60.60           Cash   \n",
       "\n",
       "  invoice_date   shopping_mall     sales  \n",
       "0     5/8/2022          Kanyon   7502.00  \n",
       "1   12/12/2021  Forum Istanbul   5401.53  \n",
       "2    9/11/2021       Metrocity    300.08  \n",
       "3   16/05/2021    Metropol AVM  15004.25  \n",
       "4   24/10/2021          Kanyon    242.40  "
      ]
     },
     "execution_count": 72,
     "metadata": {},
     "output_type": "execute_result"
    }
   ],
   "source": [
    "import pandas as pd\n",
    "import matplotlib.pyplot as plt\n",
    "df = pd.read_csv('/Users/nicomauricio/Documents/IT/datasets/Analyzing_Sales_Data_Assignment/fct_invoice.csv')\n",
    "df2 = pd.read_json('/Users/nicomauricio/Documents/IT/datasets/Analyzing_Sales_Data_Assignment/dim_customer.json')\n",
    "df.head() # To get a quick idea of what the data looks like"
   ]
  },
  {
   "cell_type": "code",
   "execution_count": 73,
   "id": "fc90da35",
   "metadata": {},
   "outputs": [
    {
     "name": "stdout",
     "output_type": "stream",
     "text": [
      "Number of unique customers: \n",
      "5191\n"
     ]
    }
   ],
   "source": [
    "# How many unique customers are in the dataset?\n",
    "# Make use of nunique() function \n",
    "unique_customers = df['customer_id'].nunique()\n",
    "print(\"Number of unique customers: \")\n",
    "print(unique_customers)\n"
   ]
  },
  {
   "cell_type": "code",
   "execution_count": 74,
   "id": "b0fb37d6",
   "metadata": {},
   "outputs": [
    {
     "name": "stdout",
     "output_type": "stream",
     "text": [
      "The different categories are: \n",
      "['Clothing', 'Shoes', 'Books', 'Cosmetics', 'Food & Beverage', 'Toys', 'Technology', 'Souvenir']\n"
     ]
    }
   ],
   "source": [
    "# What are the different categories of products available? \n",
    "# Make use of unique() & tolist() function - combine both\n",
    "categories = df['category'].unique().tolist()\n",
    "print(\"The different categories are: \")\n",
    "print(categories)"
   ]
  },
  {
   "cell_type": "code",
   "execution_count": 75,
   "id": "cd80c80f",
   "metadata": {},
   "outputs": [
    {
     "name": "stdout",
     "output_type": "stream",
     "text": [
      "The number of unique categories are: \n",
      "8\n"
     ]
    }
   ],
   "source": [
    "#How many unique categories are there?\n",
    "# Make use of nunique() function\n",
    "categories = df['category'].nunique()\n",
    "print(\"The number of unique categories are: \")\n",
    "print(categories)"
   ]
  },
  {
   "cell_type": "code",
   "execution_count": 76,
   "id": "b7debed5",
   "metadata": {},
   "outputs": [
    {
     "name": "stdout",
     "output_type": "stream",
     "text": [
      "Below is a list of all payment methods alongside the number of items it was used: \n",
      "Cash           44447\n",
      "Credit Card    34931\n",
      "Debit Card     20079\n",
      "Name: payment_method, dtype: int64\n"
     ]
    }
   ],
   "source": [
    "# Which payment method is the most popular? How many times was it used?\n",
    "# Make use of value_counts() function\n",
    "payment_method = df['payment_method'].value_counts()\n",
    "print(\"Below is a list of all payment methods alongside the number of items it was used: \")\n",
    "print(payment_method)"
   ]
  },
  {
   "cell_type": "code",
   "execution_count": 77,
   "id": "bedceedc",
   "metadata": {
    "scrolled": true
   },
   "outputs": [
    {
     "name": "stdout",
     "output_type": "stream",
     "text": [
      "category\n",
      "Clothing      1.139968e+08\n",
      "Shoes         6.655345e+07\n",
      "Technology    5.786235e+07\n",
      "Name: sales, dtype: float64\n"
     ]
    }
   ],
   "source": [
    "# What are the three most popular categories, by total sales?\n",
    "# Make use of df.groupby() function, parenthesis first followed by brackets\n",
    "# Also make us of sum() & nlargest() function \n",
    "three_most_popular = df.groupby('category')['sales'].sum()\n",
    "top_three = three_most_popular.nlargest(3)\n",
    "print(top_three)"
   ]
  },
  {
   "cell_type": "code",
   "execution_count": 78,
   "id": "e2e14203",
   "metadata": {
    "scrolled": false
   },
   "outputs": [
    {
     "data": {
      "text/html": [
       "<div>\n",
       "<style scoped>\n",
       "    .dataframe tbody tr th:only-of-type {\n",
       "        vertical-align: middle;\n",
       "    }\n",
       "\n",
       "    .dataframe tbody tr th {\n",
       "        vertical-align: top;\n",
       "    }\n",
       "\n",
       "    .dataframe thead th {\n",
       "        text-align: right;\n",
       "    }\n",
       "</style>\n",
       "<table border=\"1\" class=\"dataframe\">\n",
       "  <thead>\n",
       "    <tr style=\"text-align: right;\">\n",
       "      <th></th>\n",
       "      <th>age</th>\n",
       "      <th>first_name</th>\n",
       "      <th>gender</th>\n",
       "      <th>id</th>\n",
       "      <th>last_name</th>\n",
       "    </tr>\n",
       "  </thead>\n",
       "  <tbody>\n",
       "    <tr>\n",
       "      <th>0</th>\n",
       "      <td>48.0</td>\n",
       "      <td>Nicholas</td>\n",
       "      <td>M</td>\n",
       "      <td>0</td>\n",
       "      <td>Flores</td>\n",
       "    </tr>\n",
       "    <tr>\n",
       "      <th>1</th>\n",
       "      <td>NaN</td>\n",
       "      <td>Jeffery</td>\n",
       "      <td>M</td>\n",
       "      <td>1</td>\n",
       "      <td>Rowe</td>\n",
       "    </tr>\n",
       "    <tr>\n",
       "      <th>2</th>\n",
       "      <td>57.0</td>\n",
       "      <td>Alexis</td>\n",
       "      <td>F</td>\n",
       "      <td>2</td>\n",
       "      <td>Benton</td>\n",
       "    </tr>\n",
       "    <tr>\n",
       "      <th>3</th>\n",
       "      <td>73.0</td>\n",
       "      <td>Amy</td>\n",
       "      <td>F</td>\n",
       "      <td>3</td>\n",
       "      <td>Johnson</td>\n",
       "    </tr>\n",
       "    <tr>\n",
       "      <th>4</th>\n",
       "      <td>20.0</td>\n",
       "      <td>David</td>\n",
       "      <td>M</td>\n",
       "      <td>4</td>\n",
       "      <td>Moore</td>\n",
       "    </tr>\n",
       "  </tbody>\n",
       "</table>\n",
       "</div>"
      ],
      "text/plain": [
       "    age first_name gender  id last_name\n",
       "0  48.0   Nicholas      M   0    Flores\n",
       "1   NaN    Jeffery      M   1      Rowe\n",
       "2  57.0     Alexis      F   2    Benton\n",
       "3  73.0        Amy      F   3   Johnson\n",
       "4  20.0      David      M   4     Moore"
      ]
     },
     "execution_count": 78,
     "metadata": {},
     "output_type": "execute_result"
    }
   ],
   "source": [
    "import pandas as pd\n",
    "df2.head()"
   ]
  },
  {
   "cell_type": "code",
   "execution_count": 79,
   "id": "1b8bac11",
   "metadata": {
    "scrolled": true
   },
   "outputs": [
    {
     "name": "stdout",
     "output_type": "stream",
     "text": [
      "The total sales attributed to customers over the age of 45 is: \n",
      "82039768.15\n"
     ]
    }
   ],
   "source": [
    "# What are the total sales attributed to customers over the age of 45?\n",
    "# Make use of merge function\n",
    "merged_df = pd.merge(df, df2, left_on='customer_id', right_on='id') # Why does the merged data look like this? \n",
    "merged_df = merged_df[merged_df['age'] > 45]\n",
    "total_sales = (merged_df['quantity'] * merged_df['price']).sum() # Multiply the quantity of items bought by each person with the price\n",
    "print(\"The total sales attributed to customers over the age of 45 is: \")\n",
    "print(total_sales)\n"
   ]
  },
  {
   "cell_type": "code",
   "execution_count": 81,
   "id": "be960744",
   "metadata": {
    "scrolled": false
   },
   "outputs": [
    {
     "data": {
      "image/png": "[encoded data removed]",
      "text/plain": [
       "<Figure size 1000x600 with 1 Axes>"
      ]
     },
     "metadata": {},
     "output_type": "display_data"
    }
   ],
   "source": [
    "# How is the data distributed across different invoice dates? Are there any seasonal trends or patterns? \n",
    "# Use a graph for this\n",
    "merged_df = pd.merge(df, df2, left_on='customer_id', right_on='id')\n",
    "merged_df['invoice_date'] = pd.to_datetime(merged_df['invoice_date'], format='%d/%m/%Y')\n",
    "merged_df['year'] = merged_df['invoice_date'].dt.year\n",
    "merged_df['month'] = merged_df['invoice_date'].dt.month\n",
    "monthly_sales = merged_df.groupby(['year', 'month'])['sales'].sum()\n",
    "monthly_sales = monthly_sales.unstack(level=0)\n",
    "monthly_sales.plot(kind='line', figsize=(10, 6))\n",
    "plt.title('Monthly Sales')\n",
    "plt.xlabel('Month')\n",
    "plt.ylabel('Sales')\n",
    "plt.legend(['2021', '2022', '2023'])\n",
    "\n",
    "plt.show()\n"
   ]
  },
  {
   "cell_type": "markdown",
   "id": "2fdd9a01",
   "metadata": {},
   "source": [
    "The graph shows that there are months throughout the year where the sales goes down, particularly in the months of February, August, and November. In contrast, there are other periods in data where there is an increase in sales during the months of March, June, July, September, and December. These changes could be caused by certain factors such as new trends in society or national holidays."
   ]
  },
  {
   "cell_type": "code",
   "execution_count": 82,
   "id": "94ec34b9",
   "metadata": {},
   "outputs": [
    {
     "name": "stdout",
     "output_type": "stream",
     "text": [
      "category      Books     Clothing  Cosmetics  Food & Beverage       Shoes  \\\n",
      "decade                                                                     \n",
      "[10, 20)   12801.75   1927413.84  109619.36         13582.31   993281.35   \n",
      "[20, 30)   79461.75  10250732.80  605915.32         73491.96  5924878.24   \n",
      "[30, 40)   84143.10  11354126.96  723544.70         87246.86  7200839.66   \n",
      "[40, 50)   87203.40  11215189.92  665034.96         89553.29  7025590.02   \n",
      "[50, 60)   74962.20  10321851.76  587780.96         72425.04  5852857.84   \n",
      "[60, 70)   80476.80  10660642.08  649990.76         80976.09  5978893.54   \n",
      "[70, 80)   54827.85   7769371.28  419082.62         55050.98  4480269.05   \n",
      "[80, 90)   26664.00   4493698.00  254531.60         31332.93  2628744.60   \n",
      "[90, 100)      0.00         0.00       0.00             0.00        0.00   \n",
      "\n",
      "category   Souvenir  Technology       Toys  \n",
      "decade                                      \n",
      "[10, 20)   12375.15   1129800.0   60426.24  \n",
      "[20, 30)   54943.32   5261550.0  385100.80  \n",
      "[30, 40)   64092.72   6159300.0  420582.40  \n",
      "[40, 50)   66391.80   5954550.0  390906.88  \n",
      "[50, 60)   54943.32   4435200.0  345067.52  \n",
      "[60, 70)   55025.43   5471550.0  363955.20  \n",
      "[70, 80)   38673.81   3638250.0  273244.16  \n",
      "[80, 90)   23718.06   1946700.0  153932.80  \n",
      "[90, 100)      0.00         0.0       0.00  \n"
     ]
    }
   ],
   "source": [
    "merged_df['decade'] = pd.cut(merged_df['age'], bins=range(10, 101, 10), right=False)\n",
    "pivot_table = pd.pivot_table(merged_df, values='sales', index='decade', columns='category', aggfunc='sum')\n",
    "print(pivot_table)"
   ]
  }
 ],
 "metadata": {
  "kernelspec": {
   "display_name": "Python 3 (ipykernel)",
   "language": "python",
   "name": "python3"
  },
  "language_info": {
   "codemirror_mode": {
    "name": "ipython",
    "version": 3
   },
   "file_extension": ".py",
   "mimetype": "text/x-python",
   "name": "python",
   "nbconvert_exporter": "python",
   "pygments_lexer": "ipython3",
   "version": "3.10.9"
  }
 },
 "nbformat": 4,
 "nbformat_minor": 5
}
